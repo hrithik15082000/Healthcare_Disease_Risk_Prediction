{
  "cells": [
    {
      "cell_type": "code",
      "execution_count": null,
      "metadata": {
        "id": "evi0w1Sl7jrU"
      },
      "outputs": [],
      "source": [
        "import pandas as pd\n",
        "import sqlite3"
      ]
    },
    {
      "cell_type": "code",
      "execution_count": null,
      "metadata": {
        "id": "SnS-eWg97pL-"
      },
      "outputs": [],
      "source": [
        "df_patients = pd.read_csv('/content/full_patient_dataset.csv')\n",
        "df_high_risk = pd.read_csv('/content/high_risk_patient_segment.csv')"
      ]
    },
    {
      "cell_type": "code",
      "execution_count": null,
      "metadata": {
        "id": "LAvdR4NJ7tnS"
      },
      "outputs": [],
      "source": [
        "df_patients.columns = [c.strip().replace(' ', '_').lower() for c in df_patients.columns]\n",
        "df_high_risk.columns = [c.strip().replace(' ', '_').lower() for c in df_high_risk.columns]"
      ]
    },
    {
      "cell_type": "code",
      "execution_count": null,
      "metadata": {
        "id": "0ZyMo6jF7wp9"
      },
      "outputs": [],
      "source": [
        "conn = sqlite3.connect('healthcare.db')\n",
        "cur = conn.cursor()"
      ]
    },
    {
      "cell_type": "code",
      "execution_count": null,
      "metadata": {
        "colab": {
          "base_uri": "https://localhost:8080/"
        },
        "id": "SzrTd-G770WA",
        "outputId": "682a6456-119d-46c8-a3fd-2aa57f71a9b4"
      },
      "outputs": [
        {
          "data": {
            "text/plain": [
              "11720"
            ]
          },
          "execution_count": 33,
          "metadata": {},
          "output_type": "execute_result"
        }
      ],
      "source": [
        "df_patients.to_sql('full_patient_dataset', conn, if_exists='replace', index=False)\n",
        "df_high_risk.to_sql('high_risk_patient_segment', conn, if_exists='replace', index=False)"
      ]
    },
    {
      "cell_type": "code",
      "execution_count": null,
      "metadata": {
        "colab": {
          "base_uri": "https://localhost:8080/"
        },
        "id": "nvM7JsNM74u2",
        "outputId": "906b8b88-edb3-4673-9b89-8aaca7c380f3"
      },
      "outputs": [
        {
          "name": "stdout",
          "output_type": "stream",
          "text": [
            "Patients table columns: Index(['general_health', 'checkup', 'exercise', 'heart_disease', 'skin_cancer',\n",
            "       'other_cancer', 'depression', 'diabetes', 'arthritis', 'sex',\n",
            "       'age_category', 'height_(cm)', 'weight_(kg)', 'bmi', 'smoking_history',\n",
            "       'alcohol_consumption', 'fruit_consumption',\n",
            "       'green_vegetables_consumption', 'friedpotato_consumption'],\n",
            "      dtype='object')\n",
            "High risk table columns: Index(['general_health', 'checkup', 'exercise', 'heart_disease', 'skin_cancer',\n",
            "       'other_cancer', 'depression', 'diabetes', 'arthritis', 'sex',\n",
            "       'age_category', 'height_(cm)', 'weight_(kg)', 'bmi', 'smoking_history',\n",
            "       'alcohol_consumption', 'fruit_consumption',\n",
            "       'green_vegetables_consumption', 'friedpotato_consumption'],\n",
            "      dtype='object')\n"
          ]
        }
      ],
      "source": [
        "print(\"Patients table columns:\", df_patients.columns)\n",
        "print(\"High risk table columns:\", df_high_risk.columns)"
      ]
    },
    {
      "cell_type": "code",
      "execution_count": null,
      "metadata": {
        "colab": {
          "base_uri": "https://localhost:8080/"
        },
        "id": "XvfgcNLt79Qe",
        "outputId": "4171c517-1f7b-4fe1-ac73-d5ba2e54d7f9"
      },
      "outputs": [
        {
          "name": "stdout",
          "output_type": "stream",
          "text": [
            "First 10 patients: [('Poor', 'Within the past 2 years', 'No', 0, 0, 'No', 0, 0.0, 1, 'Female', '70-74', 150.0, 32.66, 14.54, 'Yes', 0.0, 30.0, 16.0, 12.0), ('Very Good', 'Within the past year', 'No', 1, 0, 'No', 0, 1.0, 0, 'Female', '70-74', 165.0, 77.11, 28.29, 'No', 0.0, 30.0, 0.0, 4.0), ('Very Good', 'Within the past year', 'Yes', 0, 0, 'No', 0, 1.0, 0, 'Female', '60-64', 163.0, 88.45, 33.47, 'No', 4.0, 12.0, 3.0, 16.0), ('Poor', 'Within the past year', 'Yes', 1, 0, 'No', 0, 1.0, 0, 'Male', '75-79', 180.0, 93.44, 28.73, 'No', 0.0, 30.0, 30.0, 8.0), ('Good', 'Within the past year', 'No', 0, 0, 'No', 0, 0.0, 0, 'Male', '80+', 191.0, 88.45, 24.37, 'Yes', 0.0, 8.0, 4.0, 0.0), ('Good', 'Within the past year', 'No', 0, 0, 'No', 1, 0.0, 1, 'Male', '60-64', 183.0, 154.22, 46.11, 'No', 0.0, 12.0, 12.0, 12.0), ('Fair', 'Within the past year', 'Yes', 1, 0, 'No', 0, 0.0, 1, 'Male', '60-64', 175.0, 69.85, 22.74, 'Yes', 0.0, 16.0, 8.0, 0.0), ('Good', 'Within the past year', 'Yes', 0, 0, 'No', 0, 0.0, 1, 'Female', '65-69', 165.0, 108.86, 39.94, 'Yes', 3.0, 30.0, 8.0, 8.0), ('Fair', 'Within the past year', 'No', 0, 0, 'No', 1, 0.0, 0, 'Female', '65-69', 163.0, 72.57, 27.46, 'Yes', 0.0, 12.0, 12.0, 4.0), ('Fair', 'Within the past year', 'No', 0, 0, 'No', 0, 1.0, 1, 'Female', '70-74', 163.0, 91.63, 34.67, 'No', 0.0, 12.0, 12.0, 1.0)]\n"
          ]
        }
      ],
      "source": [
        "cur.execute(\"SELECT * FROM full_patient_dataset LIMIT 10;\")\n",
        "print(\"First 10 patients:\", cur.fetchall())"
      ]
    },
    {
      "cell_type": "code",
      "execution_count": null,
      "metadata": {
        "colab": {
          "base_uri": "https://localhost:8080/"
        },
        "id": "y4YShZFm8AgX",
        "outputId": "eac48e5c-92c2-41fa-87eb-6c53c12600bc"
      },
      "outputs": [
        {
          "name": "stdout",
          "output_type": "stream",
          "text": [
            "Total patients: [(308854,)]\n"
          ]
        }
      ],
      "source": [
        "cur.execute(\"SELECT COUNT(*) FROM full_patient_dataset;\")\n",
        "print(\"Total patients:\", cur.fetchall())\n"
      ]
    },
    {
      "cell_type": "code",
      "execution_count": null,
      "metadata": {
        "colab": {
          "base_uri": "https://localhost:8080/"
        },
        "id": "DGGKP_o_8D02",
        "outputId": "9adc5086-aa08-407c-a5f6-9f951bc88560"
      },
      "outputs": [
        {
          "name": "stdout",
          "output_type": "stream",
          "text": [
            "Total high-risk patients: [(11720,)]\n"
          ]
        }
      ],
      "source": [
        "cur.execute(\"SELECT COUNT(*) FROM high_risk_patient_segment;\")\n",
        "print(\"Total high-risk patients:\", cur.fetchall())"
      ]
    },
    {
      "cell_type": "code",
      "execution_count": null,
      "metadata": {
        "colab": {
          "base_uri": "https://localhost:8080/"
        },
        "id": "DaCkWGgc8HHH",
        "outputId": "8d1f0979-afcb-4a25-ef77-a954e0704d11"
      },
      "outputs": [
        {
          "name": "stdout",
          "output_type": "stream",
          "text": [
            "Heart Disease patients: [('Very Good', 'Within the past year', 'No', 1, 0, 'No', 0, 1.0, 0, 'Female', '70-74', 165.0, 77.11, 28.29, 'No', 0.0, 30.0, 0.0, 4.0), ('Poor', 'Within the past year', 'Yes', 1, 0, 'No', 0, 1.0, 0, 'Male', '75-79', 180.0, 93.44, 28.73, 'No', 0.0, 30.0, 30.0, 8.0), ('Fair', 'Within the past year', 'Yes', 1, 0, 'No', 0, 0.0, 1, 'Male', '60-64', 175.0, 69.85, 22.74, 'Yes', 0.0, 16.0, 8.0, 0.0), ('Fair', 'Within the past year', 'Yes', 1, 0, 'No', 0, 0.0, 1, 'Female', '75-79', 160.0, 74.84, 29.23, 'No', 0.0, 30.0, 20.0, 2.0), ('Fair', 'Within the past year', 'No', 1, 1, 'No', 0, 1.0, 0, 'Male', '75-79', 175.0, 73.48, 23.92, 'No', 0.0, 2.0, 8.0, 30.0), ('Good', 'Within the past year', 'Yes', 1, 0, 'Yes', 0, 1.0, 1, 'Female', '75-79', 170.0, 64.41, 22.24, 'No', 1.0, 12.0, 4.0, 4.0), ('Good', 'Within the past year', 'Yes', 1, 1, 'No', 0, 0.0, 1, 'Male', '65-69', 173.0, 104.33, 34.97, 'No', 30.0, 12.0, 5.0, 7.0), ('Very Good', 'Within the past year', 'Yes', 1, 0, 'No', 0, 0.0, 1, 'Male', '70-74', 183.0, 90.72, 27.12, 'Yes', 12.0, 10.0, 20.0, 16.0), ('Very Good', 'Within the past year', 'Yes', 1, 0, 'Yes', 0, 0.0, 1, 'Male', '75-79', 180.0, 114.76, 35.29, 'Yes', 0.0, 2.0, 20.0, 0.0), ('Fair', 'Within the past 2 years', 'Yes', 1, 0, 'No', 0, 0.0, 1, 'Female', '80+', 155.0, 45.36, 18.89, 'Yes', 20.0, 12.0, 16.0, 0.0)]\n"
          ]
        }
      ],
      "source": [
        "cur.execute(\"SELECT * FROM full_patient_dataset WHERE heart_disease=1 LIMIT 10;\")\n",
        "print(\"Heart Disease patients:\", cur.fetchall())"
      ]
    },
    {
      "cell_type": "code",
      "execution_count": null,
      "metadata": {
        "colab": {
          "base_uri": "https://localhost:8080/"
        },
        "id": "WjgYcpzg8Jn9",
        "outputId": "e13e64db-9ac2-4673-c414-05261d2eeb56"
      },
      "outputs": [
        {
          "name": "stdout",
          "output_type": "stream",
          "text": [
            "Patients who exercise: [('Very Good', 'Within the past year', 'Yes', 0, 0, 'No', 0, 1.0, 0, 'Female', '60-64', 163.0, 88.45, 33.47, 'No', 4.0, 12.0, 3.0, 16.0), ('Poor', 'Within the past year', 'Yes', 1, 0, 'No', 0, 1.0, 0, 'Male', '75-79', 180.0, 93.44, 28.73, 'No', 0.0, 30.0, 30.0, 8.0), ('Fair', 'Within the past year', 'Yes', 1, 0, 'No', 0, 0.0, 1, 'Male', '60-64', 175.0, 69.85, 22.74, 'Yes', 0.0, 16.0, 8.0, 0.0), ('Good', 'Within the past year', 'Yes', 0, 0, 'No', 0, 0.0, 1, 'Female', '65-69', 165.0, 108.86, 39.94, 'Yes', 3.0, 30.0, 8.0, 8.0), ('Fair', 'Within the past year', 'Yes', 1, 0, 'No', 0, 0.0, 1, 'Female', '75-79', 160.0, 74.84, 29.23, 'No', 0.0, 30.0, 20.0, 2.0), ('Excellent', 'Within the past 2 years', 'Yes', 0, 0, 'No', 0, 0.0, 0, 'Female', '70-74', 152.0, 52.16, 22.46, 'No', 0.0, 30.0, 4.0, 0.0), ('Very Good', 'Within the past year', 'Yes', 0, 0, 'No', 0, 0.0, 1, 'Male', '80+', 168.0, 81.65, 29.05, 'No', 30.0, 30.0, 12.0, 8.0), ('Fair', 'Within the past year', 'Yes', 0, 0, 'No', 0, 1.0, 0, 'Male', '45-49', 178.0, 104.33, 33.0, 'Yes', 2.0, 16.0, 12.0, 8.0), ('Very Good', 'Within the past 2 years', 'Yes', 0, 0, 'No', 1, 0.0, 0, 'Female', '18-24', 157.0, 55.79, 22.5, 'No', 0.0, 60.0, 30.0, 1.0), ('Very Good', '5 or more years ago', 'Yes', 0, 0, 'No', 0, 0.0, 0, 'Female', '30-34', 180.0, 124.74, 38.35, 'No', 0.0, 2.0, 4.0, 12.0)]\n"
          ]
        }
      ],
      "source": [
        "cur.execute(\"SELECT * FROM full_patient_dataset WHERE exercise='Yes' LIMIT 10;\")\n",
        "print(\"Patients who exercise:\", cur.fetchall())\n"
      ]
    },
    {
      "cell_type": "code",
      "execution_count": null,
      "metadata": {
        "colab": {
          "base_uri": "https://localhost:8080/"
        },
        "id": "B4aoxFBA8NzV",
        "outputId": "746be80a-8c19-4480-b544-f7009efb4da4"
      },
      "outputs": [
        {
          "name": "stdout",
          "output_type": "stream",
          "text": [
            "Patients by general health: [('Excellent', 55954), ('Fair', 35810), ('Good', 95364), ('Poor', 11331), ('Very Good', 110395)]\n"
          ]
        }
      ],
      "source": [
        "cur.execute(\"SELECT general_health, COUNT(*) as total FROM full_patient_dataset GROUP BY general_health;\")\n",
        "print(\"Patients by general health:\", cur.fetchall())\n"
      ]
    },
    {
      "cell_type": "code",
      "execution_count": null,
      "metadata": {
        "colab": {
          "base_uri": "https://localhost:8080/"
        },
        "id": "ZXXdjWEK8eR_",
        "outputId": "594d9db2-b1f0-4624-eb79-9e2f5a44aa4e"
      },
      "outputs": [
        {
          "name": "stdout",
          "output_type": "stream",
          "text": [
            "['general_health', 'checkup', 'exercise', 'heart_disease', 'skin_cancer', 'other_cancer', 'depression', 'diabetes', 'arthritis', 'sex', 'age_category', 'height_(cm)', 'weight_(kg)', 'bmi', 'smoking_history', 'alcohol_consumption', 'fruit_consumption', 'green_vegetables_consumption', 'friedpotato_consumption']\n"
          ]
        }
      ],
      "source": [
        "# Check column names of your patients dataset\n",
        "print(df_patients.columns.tolist())\n"
      ]
    },
    {
      "cell_type": "code",
      "execution_count": null,
      "metadata": {
        "id": "AIkI9zPa8hd-"
      },
      "outputs": [],
      "source": [
        "# Strip spaces, replace spaces with underscores, and lowercase everything\n",
        "df_patients.columns = [c.strip().replace(' ', '_').lower() for c in df_patients.columns]\n",
        "\n",
        "# Reload into SQLite\n",
        "conn = sqlite3.connect('healthcare.db')\n",
        "df_patients.to_sql('full_patient_dataset', conn, if_exists='replace', index=False)\n",
        "cur = conn.cursor()\n"
      ]
    },
    {
      "cell_type": "code",
      "execution_count": null,
      "metadata": {
        "colab": {
          "base_uri": "https://localhost:8080/"
        },
        "id": "T3F9RX_x81hO",
        "outputId": "f3bdba1a-89b1-42be-9918-18f1e83e4bd4"
      },
      "outputs": [
        {
          "name": "stdout",
          "output_type": "stream",
          "text": [
            "['General_Health', 'Checkup', 'Exercise', 'Heart_Disease', 'Skin_Cancer', 'Other_Cancer', 'Depression', 'Diabetes', 'Arthritis', 'Sex', 'Age_Category', 'Height_(cm)', 'Weight_(kg)', 'BMI', 'Smoking_History', 'Alcohol_Consumption', 'Fruit_Consumption', 'Green_Vegetables_Consumption', 'FriedPotato_Consumption']\n"
          ]
        }
      ],
      "source": [
        "import pandas as pd\n",
        "\n",
        "df_patients = pd.read_csv('/content/full_patient_dataset.csv')\n",
        "print(df_patients.columns.tolist())\n"
      ]
    },
    {
      "cell_type": "code",
      "execution_count": null,
      "metadata": {
        "colab": {
          "base_uri": "https://localhost:8080/"
        },
        "id": "9On_3Am685vy",
        "outputId": "6f3aa4c7-1993-40dc-8926-346f80fad7b9"
      },
      "outputs": [
        {
          "name": "stdout",
          "output_type": "stream",
          "text": [
            "['general_health', 'checkup', 'exercise', 'heart_disease', 'skin_cancer', 'other_cancer', 'depression', 'diabetes', 'arthritis', 'sex', 'age_category', 'height_(cm)', 'weight_(kg)', 'bmi', 'smoking_history', 'alcohol_consumption', 'fruit_consumption', 'green_vegetables_consumption', 'friedpotato_consumption']\n"
          ]
        }
      ],
      "source": [
        "df_patients.columns = [c.strip().replace(' ', '_').lower() for c in df_patients.columns]\n",
        "print(df_patients.columns.tolist())\n"
      ]
    },
    {
      "cell_type": "code",
      "execution_count": null,
      "metadata": {
        "id": "KCSCyDYh896e"
      },
      "outputs": [],
      "source": [
        "import sqlite3\n",
        "\n",
        "conn = sqlite3.connect('healthcare.db')\n",
        "df_patients.to_sql('full_patient_dataset', conn, if_exists='replace', index=False)\n",
        "cur = conn.cursor()\n"
      ]
    },
    {
      "cell_type": "code",
      "execution_count": null,
      "metadata": {
        "id": "B4e4wctT9B9M"
      },
      "outputs": [],
      "source": [
        "import sqlite3\n",
        "\n",
        "conn = sqlite3.connect('healthcare.db')\n",
        "df_patients.to_sql('full_patient_dataset', conn, if_exists='replace', index=False)\n",
        "cur = conn.cursor()\n"
      ]
    },
    {
      "cell_type": "code",
      "execution_count": null,
      "metadata": {
        "colab": {
          "base_uri": "https://localhost:8080/"
        },
        "id": "oIwXP8z-9FJe",
        "outputId": "99312bb5-3513-4e54-8b5e-87bbe107241d"
      },
      "outputs": [
        {
          "name": "stdout",
          "output_type": "stream",
          "text": [
            "Patients by Smoking_History: [('No', 183590), ('Yes', 125264)]\n",
            "Patients by Alcohol_Consumption: [(0.0, 140262), (1.0, 24983), (2.0, 19740), (3.0, 11479), (4.0, 23367), (5.0, 9622), (6.0, 3518), (7.0, 2572), (8.0, 13438), (9.0, 239), (10.0, 7881), (11.0, 41), (12.0, 8825), (13.0, 76), (14.0, 486), (15.0, 6178), (16.0, 3602), (17.0, 78), (18.0, 196), (19.0, 11), (20.0, 9372), (21.0, 197), (22.0, 152), (23.0, 65), (24.0, 1253), (25.0, 2670), (26.0, 126), (27.0, 205), (28.0, 5935), (29.0, 309), (30.0, 11976)]\n"
          ]
        }
      ],
      "source": [
        "cur.execute(\"SELECT Smoking_History, COUNT(*) as total FROM full_patient_dataset GROUP BY Smoking_History;\")\n",
        "print(\"Patients by Smoking_History:\", cur.fetchall())\n",
        "\n",
        "cur.execute(\"SELECT Alcohol_Consumption, COUNT(*) as total FROM full_patient_dataset GROUP BY Alcohol_Consumption;\")\n",
        "print(\"Patients by Alcohol_Consumption:\", cur.fetchall())\n"
      ]
    },
    {
      "cell_type": "code",
      "execution_count": null,
      "metadata": {
        "colab": {
          "base_uri": "https://localhost:8080/"
        },
        "id": "zzk5q38F96Wg",
        "outputId": "334bf794-2110-4836-8d9a-2b22225c13f1"
      },
      "outputs": [
        {
          "name": "stdout",
          "output_type": "stream",
          "text": [
            "Patients with depression: [('Good', 'Within the past year', 'No', 0, 0, 'No', 1, 0.0, 1, 'Male', '60-64', 183.0, 154.22, 46.11, 'No', 0.0, 12.0, 12.0, 12.0), ('Fair', 'Within the past year', 'No', 0, 0, 'No', 1, 0.0, 0, 'Female', '65-69', 163.0, 72.57, 27.46, 'Yes', 0.0, 12.0, 12.0, 4.0), ('Very Good', 'Within the past year', 'No', 0, 0, 'No', 1, 0.0, 0, 'Female', '50-54', 168.0, 83.91, 29.86, 'No', 8.0, 8.0, 0.0, 2.0), ('Very Good', 'Within the past 2 years', 'Yes', 0, 0, 'No', 1, 0.0, 0, 'Female', '18-24', 157.0, 55.79, 22.5, 'No', 0.0, 60.0, 30.0, 1.0), ('Fair', 'Within the past year', 'No', 0, 0, 'No', 1, 1.0, 1, 'Male', '65-69', 180.0, 147.42, 45.33, 'No', 0.0, 2.0, 5.0, 10.0), ('Good', 'Within the past year', 'Yes', 0, 0, 'No', 1, 0.0, 1, 'Female', '50-54', 160.0, 70.31, 27.46, 'Yes', 0.0, 7.0, 2.0, 0.0), ('Good', 'Within the past year', 'No', 0, 0, 'No', 1, 0.0, 1, 'Female', '70-74', 165.0, 77.11, 28.29, 'No', 0.0, 3.0, 0.0, 2.0), ('Fair', 'Within the past 2 years', 'No', 0, 0, 'Yes', 1, 0.0, 1, 'Female', '55-59', 175.0, 90.72, 29.53, 'Yes', 0.0, 2.0, 16.0, 16.0), ('Fair', 'Within the past year', 'Yes', 0, 0, 'No', 1, 0.0, 1, 'Female', '60-64', 168.0, 85.28, 30.34, 'Yes', 4.0, 0.0, 3.0, 2.0), ('Good', 'Within the past year', 'No', 0, 0, 'Yes', 1, 0.0, 1, 'Female', '60-64', 163.0, 120.2, 45.49, 'Yes', 0.0, 60.0, 30.0, 1.0)]\n"
          ]
        }
      ],
      "source": [
        "cur.execute(\"SELECT * FROM full_patient_dataset WHERE depression=1 LIMIT 10;\")\n",
        "print(\"Patients with depression:\", cur.fetchall())\n"
      ]
    },
    {
      "cell_type": "code",
      "execution_count": null,
      "metadata": {
        "colab": {
          "base_uri": "https://localhost:8080/"
        },
        "id": "EnYT1-Yw9-N-",
        "outputId": "b6445e51-ad05-46a3-f9e5-9b07ffaad5b8"
      },
      "outputs": [
        {
          "name": "stdout",
          "output_type": "stream",
          "text": [
            "Patients with skin cancer: [('Fair', 'Within the past year', 'No', 1, 1, 'No', 0, 1.0, 0, 'Male', '75-79', 175.0, 73.48, 23.92, 'No', 0.0, 2.0, 8.0, 30.0), ('Fair', 'Within the past year', 'No', 0, 1, 'No', 0, 0.0, 0, 'Male', '65-69', 178.0, 113.4, 35.87, 'Yes', 4.0, 2.0, 3.0, 4.0), ('Good', 'Within the past year', 'No', 0, 1, 'Yes', 0, 1.0, 1, 'Female', '70-74', 163.0, 79.38, 30.04, 'No', 0.0, 12.0, 8.0, 4.0), ('Good', 'Within the past year', 'No', 0, 1, 'Yes', 0, 0.0, 1, 'Female', '80+', 160.0, 70.31, 27.46, 'Yes', 12.0, 8.0, 16.0, 4.0), ('Fair', 'Within the past year', 'Yes', 0, 1, 'No', 0, 0.0, 1, 'Male', '70-74', 188.0, 102.06, 28.89, 'No', 0.0, 30.0, 1.0, 12.0), ('Good', 'Within the past year', 'Yes', 0, 1, 'No', 0, 0.0, 0, 'Male', '70-74', 185.0, 88.45, 25.73, 'No', 1.0, 30.0, 12.0, 3.0), ('Good', 'Within the past year', 'No', 0, 1, 'No', 0, 0.0, 1, 'Female', '80+', 165.0, 70.31, 25.79, 'Yes', 3.0, 60.0, 30.0, 8.0), ('Good', 'Within the past year', 'No', 0, 1, 'No', 0, 0.0, 1, 'Female', '80+', 168.0, 77.11, 27.44, 'No', 0.0, 5.0, 8.0, 12.0), ('Excellent', 'Within the past year', 'Yes', 0, 1, 'No', 0, 0.0, 0, 'Female', '75-79', 168.0, 49.9, 17.75, 'No', 0.0, 30.0, 30.0, 0.0), ('Poor', 'Within the past year', 'Yes', 0, 1, 'No', 1, 0.0, 1, 'Female', '65-69', 152.0, 69.4, 29.88, 'No', 0.0, 6.0, 6.0, 0.0)]\n"
          ]
        }
      ],
      "source": [
        "cur.execute(\"SELECT * FROM full_patient_dataset WHERE skin_cancer=1 LIMIT 10;\")\n",
        "print(\"Patients with skin cancer:\", cur.fetchall())"
      ]
    },
    {
      "cell_type": "code",
      "execution_count": null,
      "metadata": {
        "colab": {
          "base_uri": "https://localhost:8080/"
        },
        "id": "ajZVidYn-CUa",
        "outputId": "55e9dd63-74a5-410d-d448-a557fc9d86f4"
      },
      "outputs": [
        {
          "name": "stdout",
          "output_type": "stream",
          "text": [
            "Cleaned patients columns: ['general_health', 'checkup', 'exercise', 'heart_disease', 'skin_cancer', 'other_cancer', 'depression', 'diabetes', 'arthritis', 'sex', 'age_category', 'height_(cm)', 'weight_(kg)', 'bmi', 'smoking_history', 'alcohol_consumption', 'fruit_consumption', 'green_vegetables_consumption', 'friedpotato_consumption']\n",
            "Cleaned high-risk columns: ['general_health', 'checkup', 'exercise', 'heart_disease', 'skin_cancer', 'other_cancer', 'depression', 'diabetes', 'arthritis', 'sex', 'age_category', 'height_(cm)', 'weight_(kg)', 'bmi', 'smoking_history', 'alcohol_consumption', 'fruit_consumption', 'green_vegetables_consumption', 'friedpotato_consumption']\n"
          ]
        }
      ],
      "source": [
        "# Replace spaces with underscores, lowercase everything\n",
        "df_patients.columns = [c.strip().replace(' ', '_').lower() for c in df_patients.columns]\n",
        "df_high_risk.columns = [c.strip().replace(' ', '_').lower() for c in df_high_risk.columns]\n",
        "\n",
        "print(\"Cleaned patients columns:\", df_patients.columns.tolist())\n",
        "print(\"Cleaned high-risk columns:\", df_high_risk.columns.tolist())\n"
      ]
    },
    {
      "cell_type": "code",
      "execution_count": null,
      "metadata": {
        "colab": {
          "base_uri": "https://localhost:8080/"
        },
        "id": "nigYMq2-_QDW",
        "outputId": "fb18c2e1-310b-4f84-909b-83f249118cbc"
      },
      "outputs": [
        {
          "name": "stdout",
          "output_type": "stream",
          "text": [
            "High-risk join (first): [('Poor', 0, 'No'), ('Poor', 0, 'No'), ('Poor', 0, 'No'), ('Poor', 0, 'No'), ('Poor', 0, 'No'), ('Poor', 0, 'No'), ('Poor', 0, 'No'), ('Poor', 0, 'No'), ('Poor', 0, 'No'), ('Poor', 0, 'No')]\n",
            "High-risk join (second): [('Poor', 0, 'No'), ('Poor', 0, 'No'), ('Poor', 0, 'No'), ('Poor', 0, 'No'), ('Poor', 0, 'No'), ('Poor', 0, 'No'), ('Poor', 0, 'No'), ('Poor', 0, 'No'), ('Poor', 0, 'No'), ('Poor', 0, 'No')]\n"
          ]
        }
      ],
      "source": [
        "# First run\n",
        "cur.execute(\"\"\"\n",
        "SELECT p.general_health, p.heart_disease, p.exercise\n",
        "FROM full_patient_dataset p\n",
        "JOIN high_risk_patient_segment h\n",
        "ON p.general_health = h.general_health AND p.heart_disease = h.heart_disease\n",
        "LIMIT 10;\n",
        "\"\"\")\n",
        "print(\"High-risk join (first):\", cur.fetchall())\n",
        "\n",
        "# Second run (execute again)\n",
        "cur.execute(\"\"\"\n",
        "SELECT p.general_health, p.heart_disease, p.exercise\n",
        "FROM full_patient_dataset p\n",
        "JOIN high_risk_patient_segment h\n",
        "ON p.general_health = h.general_health AND p.heart_disease = h.heart_disease\n",
        "LIMIT 10;\n",
        "\"\"\")\n",
        "print(\"High-risk join (second):\", cur.fetchall())"
      ]
    },
    {
      "cell_type": "code",
      "execution_count": null,
      "metadata": {
        "colab": {
          "base_uri": "https://localhost:8080/"
        },
        "id": "wipjAwsUAHUf",
        "outputId": "51b1f282-5120-4167-fb4a-6ec99eb8a15d"
      },
      "outputs": [
        {
          "name": "stdout",
          "output_type": "stream",
          "text": [
            "Heart disease + depression: [('Poor', 'Within the past year', 'No', 1, 0, 'No', 1, 1.0, 1, 'Female', '75-79', 160.0, 72.57, 28.34, 'No', 0.0, 4.0, 30.0, 30.0), ('Fair', 'Within the past year', 'No', 1, 0, 'No', 1, 0.0, 1, 'Female', '80+', 160.0, 52.16, 20.37, 'Yes', 0.0, 30.0, 2.0, 1.0), ('Poor', 'Within the past year', 'No', 1, 0, 'No', 1, 1.0, 1, 'Male', '60-64', 178.0, 98.88, 31.28, 'No', 0.0, 12.0, 4.0, 4.0), ('Good', 'Within the past year', 'Yes', 1, 1, 'No', 1, 1.0, 1, 'Female', '80+', 150.0, 72.57, 32.32, 'No', 0.0, 30.0, 4.0, 1.0), ('Poor', 'Within the past year', 'No', 1, 0, 'No', 1, 0.0, 1, 'Male', '65-69', 170.0, 96.16, 33.2, 'No', 0.0, 12.0, 3.0, 4.0), ('Fair', 'Within the past year', 'No', 1, 0, 'No', 1, 0.0, 1, 'Female', '70-74', 157.0, 77.11, 31.09, 'No', 0.0, 12.0, 8.0, 12.0), ('Poor', 'Within the past year', 'No', 1, 0, 'No', 1, 0.0, 1, 'Female', '75-79', 163.0, 79.38, 30.04, 'No', 0.0, 1.0, 3.0, 3.0), ('Fair', 'Within the past year', 'Yes', 1, 0, 'No', 1, 0.0, 1, 'Female', '70-74', 170.0, 84.82, 29.29, 'Yes', 12.0, 12.0, 12.0, 0.0), ('Fair', 'Within the past year', 'No', 1, 0, 'No', 1, 0.0, 1, 'Male', '80+', 170.0, 111.13, 38.37, 'Yes', 0.0, 30.0, 12.0, 8.0), ('Fair', 'Within the past 2 years', 'Yes', 1, 0, 'No', 1, 0.0, 1, 'Male', '65-69', 183.0, 83.91, 25.09, 'Yes', 0.0, 60.0, 30.0, 8.0)]\n"
          ]
        }
      ],
      "source": [
        "cur.execute(\"SELECT * FROM full_patient_dataset WHERE heart_disease=1 AND depression=1 LIMIT 10;\")\n",
        "print(\"Heart disease + depression:\", cur.fetchall())"
      ]
    },
    {
      "cell_type": "code",
      "execution_count": null,
      "metadata": {
        "colab": {
          "base_uri": "https://localhost:8080/"
        },
        "id": "QRhtjuWCAMu8",
        "outputId": "55355fce-0554-4d11-bf50-da27a4a3e342"
      },
      "outputs": [
        {
          "name": "stdout",
          "output_type": "stream",
          "text": [
            "Patients by exercise: [('No', 69473), ('Yes', 239381)]\n"
          ]
        }
      ],
      "source": [
        "cur.execute(\"SELECT exercise, COUNT(*) as total FROM full_patient_dataset GROUP BY exercise;\")\n",
        "print(\"Patients by exercise:\", cur.fetchall())"
      ]
    },
    {
      "cell_type": "code",
      "execution_count": null,
      "metadata": {
        "colab": {
          "base_uri": "https://localhost:8080/"
        },
        "id": "X7JlRPgjAcjr",
        "outputId": "ef3413bd-d0a5-420c-8f80-b932025dfb58"
      },
      "outputs": [
        {
          "name": "stdout",
          "output_type": "stream",
          "text": [
            "Patients with other cancers: [('Poor', 'Within the past 2 years', 'No', 0, 0, 'No', 0, 0.0, 1, 'Female', '70-74', 150.0, 32.66, 14.54, 'Yes', 0.0, 30.0, 16.0, 12.0), ('Very Good', 'Within the past year', 'No', 1, 0, 'No', 0, 1.0, 0, 'Female', '70-74', 165.0, 77.11, 28.29, 'No', 0.0, 30.0, 0.0, 4.0), ('Very Good', 'Within the past year', 'Yes', 0, 0, 'No', 0, 1.0, 0, 'Female', '60-64', 163.0, 88.45, 33.47, 'No', 4.0, 12.0, 3.0, 16.0), ('Poor', 'Within the past year', 'Yes', 1, 0, 'No', 0, 1.0, 0, 'Male', '75-79', 180.0, 93.44, 28.73, 'No', 0.0, 30.0, 30.0, 8.0), ('Good', 'Within the past year', 'No', 0, 0, 'No', 0, 0.0, 0, 'Male', '80+', 191.0, 88.45, 24.37, 'Yes', 0.0, 8.0, 4.0, 0.0), ('Good', 'Within the past year', 'No', 0, 0, 'No', 1, 0.0, 1, 'Male', '60-64', 183.0, 154.22, 46.11, 'No', 0.0, 12.0, 12.0, 12.0), ('Fair', 'Within the past year', 'Yes', 1, 0, 'No', 0, 0.0, 1, 'Male', '60-64', 175.0, 69.85, 22.74, 'Yes', 0.0, 16.0, 8.0, 0.0), ('Good', 'Within the past year', 'Yes', 0, 0, 'No', 0, 0.0, 1, 'Female', '65-69', 165.0, 108.86, 39.94, 'Yes', 3.0, 30.0, 8.0, 8.0), ('Fair', 'Within the past year', 'No', 0, 0, 'No', 1, 0.0, 0, 'Female', '65-69', 163.0, 72.57, 27.46, 'Yes', 0.0, 12.0, 12.0, 4.0), ('Fair', 'Within the past year', 'No', 0, 0, 'No', 0, 1.0, 1, 'Female', '70-74', 163.0, 91.63, 34.67, 'No', 0.0, 12.0, 12.0, 1.0)]\n"
          ]
        }
      ],
      "source": [
        "cur.execute(\"SELECT * FROM full_patient_dataset WHERE other_cancer IS NOT NULL LIMIT 10;\")\n",
        "print(\"Patients with other cancers:\", cur.fetchall())"
      ]
    },
    {
      "cell_type": "code",
      "execution_count": null,
      "metadata": {
        "colab": {
          "base_uri": "https://localhost:8080/"
        },
        "id": "v5Khlxm_AsL_",
        "outputId": "3676ab3c-522e-4eae-cbc9-2d06722f6c02"
      },
      "outputs": [
        {
          "name": "stdout",
          "output_type": "stream",
          "text": [
            "Patients who smoke & drink: []\n"
          ]
        }
      ],
      "source": [
        "cur.execute(\"SELECT * FROM full_patient_dataset WHERE Smoking_History='Yes' AND Alcohol_Consumption='Yes' LIMIT 10;\")\n",
        "print(\"Patients who smoke & drink:\", cur.fetchall())"
      ]
    },
    {
      "cell_type": "code",
      "execution_count": null,
      "metadata": {
        "colab": {
          "base_uri": "https://localhost:8080/"
        },
        "id": "3EeYERkFA-tM",
        "outputId": "653b167b-ae29-4c9d-c66a-c9ce05583c1d"
      },
      "outputs": [
        {
          "name": "stdout",
          "output_type": "stream",
          "text": [
            "High-risk + heart disease: [('Fair', 'No', 1), ('Fair', 'No', 1), ('Fair', 'No', 1), ('Fair', 'No', 1), ('Fair', 'No', 1), ('Fair', 'No', 1), ('Fair', 'No', 1), ('Fair', 'No', 1), ('Fair', 'No', 1), ('Fair', 'No', 1)]\n"
          ]
        }
      ],
      "source": [
        "cur.execute(\"\"\"\n",
        "SELECT p.general_health, p.exercise, p.heart_disease\n",
        "FROM full_patient_dataset p\n",
        "JOIN high_risk_patient_segment h\n",
        "ON p.general_health = h.general_health AND p.heart_disease = h.heart_disease\n",
        "WHERE p.heart_disease=1\n",
        "LIMIT 10;\n",
        "\"\"\")\n",
        "print(\"High-risk + heart disease:\", cur.fetchall())"
      ]
    },
    {
      "cell_type": "code",
      "execution_count": null,
      "metadata": {
        "colab": {
          "base_uri": "https://localhost:8080/"
        },
        "id": "ycYlsvzQBK3_",
        "outputId": "34d3ab98-cf79-4617-d9d7-14dea40ddc76"
      },
      "outputs": [
        {
          "name": "stdout",
          "output_type": "stream",
          "text": [
            "Skin cancer count by health: [('Excellent', 3982), ('Fair', 4047), ('Good', 9639), ('Poor', 1592), ('Very Good', 10734)]\n"
          ]
        }
      ],
      "source": [
        "cur.execute(\"SELECT general_health, SUM(skin_cancer) as skin_cancer_count FROM full_patient_dataset GROUP BY general_health;\")\n",
        "print(\"Skin cancer count by health:\", cur.fetchall())"
      ]
    },
    {
      "cell_type": "code",
      "execution_count": null,
      "metadata": {
        "colab": {
          "base_uri": "https://localhost:8080/"
        },
        "id": "70ZEN8LKBa0c",
        "outputId": "b10e7ec9-7d2a-4f99-d78a-1271107c5d7c"
      },
      "outputs": [
        {
          "name": "stdout",
          "output_type": "stream",
          "text": [
            "Patients not in high-risk: [('Very Good', 1), ('Very Good', 0), ('Good', 0), ('Good', 0), ('Good', 0), ('Very Good', 0), ('Excellent', 0), ('Good', 0), ('Very Good', 0), ('Good', 0)]\n"
          ]
        }
      ],
      "source": [
        "cur.execute(\"\"\"\n",
        "SELECT p.general_health, p.heart_disease\n",
        "FROM full_patient_dataset p\n",
        "LEFT JOIN high_risk_patient_segment h\n",
        "ON p.general_health = h.general_health AND p.heart_disease = h.heart_disease\n",
        "WHERE h.general_health IS NULL\n",
        "LIMIT 10;\n",
        "\"\"\")\n",
        "print(\"Patients not in high-risk:\", cur.fetchall())"
      ]
    },
    {
      "cell_type": "code",
      "execution_count": null,
      "metadata": {
        "colab": {
          "base_uri": "https://localhost:8080/"
        },
        "id": "2AsSUKSvBk4t",
        "outputId": "cbc2c1bf-1f50-40f7-8a73-93be6be3f9c1"
      },
      "outputs": [
        {
          "name": "stdout",
          "output_type": "stream",
          "text": [
            "Patients by Smoking_History & exercise: [('No', 'No', 35389), ('No', 'Yes', 148201), ('Yes', 'No', 34084), ('Yes', 'Yes', 91180)]\n"
          ]
        }
      ],
      "source": [
        "cur.execute(\"SELECT Smoking_History, exercise, COUNT(*) as total FROM full_patient_dataset GROUP BY Smoking_History, exercise;\")\n",
        "print(\"Patients by Smoking_History & exercise:\", cur.fetchall())"
      ]
    },
    {
      "cell_type": "code",
      "execution_count": null,
      "metadata": {
        "colab": {
          "base_uri": "https://localhost:8080/"
        },
        "id": "LnTivACwB15f",
        "outputId": "494a7d9c-2597-4006-ee95-4c1e55f32780"
      },
      "outputs": [
        {
          "name": "stdout",
          "output_type": "stream",
          "text": [
            "Depressed + high-risk patients: [('Fair', 1, 0), ('Fair', 1, 0), ('Fair', 1, 0), ('Fair', 1, 0), ('Fair', 1, 0), ('Fair', 1, 0), ('Fair', 1, 0), ('Fair', 1, 0), ('Fair', 1, 0), ('Fair', 1, 0)]\n"
          ]
        }
      ],
      "source": [
        "cur.execute(\"\"\"\n",
        "SELECT p.general_health, p.depression, p.heart_disease\n",
        "FROM full_patient_dataset p\n",
        "JOIN high_risk_patient_segment h\n",
        "ON p.general_health = h.general_health AND p.heart_disease = h.heart_disease\n",
        "WHERE p.depression=1\n",
        "LIMIT 10;\n",
        "\"\"\")\n",
        "print(\"Depressed + high-risk patients:\", cur.fetchall())"
      ]
    }
  ],
  "metadata": {
    "colab": {
      "provenance": []
    },
    "kernelspec": {
      "display_name": "Python 3",
      "name": "python3"
    },
    "language_info": {
      "name": "python"
    }
  },
  "nbformat": 4,
  "nbformat_minor": 0
}
